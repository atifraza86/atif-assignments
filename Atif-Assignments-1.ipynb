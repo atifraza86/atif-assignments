{
 "cells": [
  {
   "cell_type": "code",
   "execution_count": null,
   "metadata": {},
   "outputs": [],
   "source": [
    "import pandas as pd\n",
    "import matplotlib.pyplot as plt"
   ]
  },
  {
   "cell_type": "code",
   "execution_count": null,
   "metadata": {
    "scrolled": true
   },
   "outputs": [],
   "source": [
    "inputfile = pd.read_csv('Company_Financial_KPI.CSV') # Reading Company financial KPI csv files.\n",
    "inputfile"
   ]
  },
  {
   "cell_type": "code",
   "execution_count": null,
   "metadata": {},
   "outputs": [],
   "source": [
    "total_revenue = inputfile['revenue'].groupby([inputfile['company'],inputfile['year']]).sum() # Grouping record according to Company and year so I can calculate Total Revenue.\n",
    "total_revenue = pd.DataFrame(total_revenue)\n",
    "total_revenue"
   ]
  },
  {
   "cell_type": "code",
   "execution_count": null,
   "metadata": {},
   "outputs": [],
   "source": [
    "total_profit = inputfile['profit'].groupby([inputfile['company'],inputfile['year']]).sum() # Grouping record according to Company and year so I can calculate Total profit.\n",
    "total_profit = pd.DataFrame(total_profit)\n",
    "total_profit"
   ]
  },
  {
   "cell_type": "code",
   "execution_count": null,
   "metadata": {},
   "outputs": [],
   "source": [
    "total_customer = inputfile['customer'].groupby([inputfile['company'],inputfile['year']]).sum() # Grouping record according to Company and year so I can calculate Total Customers.\n",
    "total_customer = pd.DataFrame(total_customer)\n",
    "total_customer"
   ]
  },
  {
   "cell_type": "code",
   "execution_count": null,
   "metadata": {},
   "outputs": [],
   "source": [
    "product_line_profit = inputfile['profit'].groupby([inputfile['prd_line'],inputfile['product'],inputfile['year']]).max()  # Profit by product Line with filter on specific product\n",
    "product_line_profit = pd.DataFrame(product_line_profit)\n",
    "product_line_profit"
   ]
  },
  {
   "cell_type": "code",
   "execution_count": null,
   "metadata": {
    "scrolled": true
   },
   "outputs": [],
   "source": [
    "product_line_profit_by_year = inputfile['profit'].groupby([inputfile['year']]).sum() # Grouping profit according to financial year.\n",
    "product_line_profit_by_year\n",
    "product_line_profit_by_yr = pd.DataFrame(product_line_profit_by_year)\n",
    "product_line_profit_by_yr"
   ]
  },
  {
   "cell_type": "code",
   "execution_count": null,
   "metadata": {
    "scrolled": true
   },
   "outputs": [],
   "source": [
    "Complete_revenue = inputfile['revenue'].groupby(inputfile['company']).sum() # Grouping record according to Company so I can calculate Total Revenue(including all years).\n",
    "Complete_revenue = pd.DataFrame(Complete_revenue)\n",
    "Complete_revenue"
   ]
  },
  {
   "cell_type": "code",
   "execution_count": null,
   "metadata": {},
   "outputs": [],
   "source": [
    "#Performance of the company (good/bad/ok)\n",
    "profit_ok = 9000\n",
    "profit_good = 18000\n",
    "for year, profit in product_line_profit_by_year.iteritems():\n",
    "    if profit < profit_ok :\n",
    "        print('Company performance is BAD in the year', year , 'Total Profit of the year is ' , profit)     \n",
    "    elif profit_ok < profit < profit_good:\n",
    "        print('Company performance is OK in the year', year , 'Total Profit of the year is ' , profit)\n",
    "    elif profit > profit_good:\n",
    "        print('Company performance is GOOD in the year', year , 'Total Profit of the year is ' , profit)"
   ]
  },
  {
   "cell_type": "code",
   "execution_count": null,
   "metadata": {},
   "outputs": [],
   "source": [
    "ax = product_line_profit.plot(kind='bar', title =\"COMPANY FINACIAL KPI\",figsize=(15,10),legend=True, fontsize=12)\n",
    "ax.set_xlabel(\"PRODUCT\",fontsize=12)\n",
    "ax.set_ylabel(\"PROFIT\",fontsize=12)\n",
    "plt.show()"
   ]
  },
  {
   "cell_type": "code",
   "execution_count": null,
   "metadata": {
    "scrolled": true
   },
   "outputs": [],
   "source": [
    "product_line_profit_by_yr.plot.bar()\n",
    "plt.show()"
   ]
  },
  {
   "cell_type": "code",
   "execution_count": null,
   "metadata": {},
   "outputs": [],
   "source": []
  },
  {
   "cell_type": "code",
   "execution_count": null,
   "metadata": {},
   "outputs": [],
   "source": []
  }
 ],
 "metadata": {
  "kernelspec": {
   "display_name": "Python 3",
   "language": "python",
   "name": "python3"
  },
  "language_info": {
   "codemirror_mode": {
    "name": "ipython",
    "version": 3
   },
   "file_extension": ".py",
   "mimetype": "text/x-python",
   "name": "python",
   "nbconvert_exporter": "python",
   "pygments_lexer": "ipython3",
   "version": "3.6.1"
  }
 },
 "nbformat": 4,
 "nbformat_minor": 2
}
